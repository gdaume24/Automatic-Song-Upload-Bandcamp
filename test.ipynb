{
 "cells": [
  {
   "cell_type": "code",
   "execution_count": null,
   "metadata": {},
   "outputs": [],
   "source": [
    "import tkinter as tk\n",
    "\n",
    "# Liste pour stocker les dossiers à traiter\n",
    "liste_dossiers = []\n",
    "\n",
    "# Fonction pour ajouter un dossier à la liste\n",
    "def ajouter_dossier():\n",
    "    # Ici, vous pouvez ajouter du code pour ouvrir une boîte de dialogue et récupérer le chemin du dossier sélectionné\n",
    "    # Pour cet exemple, nous allons simplement utiliser un chemin statique\n",
    "    dossier_selectionne = \"/chemin/du/dossier\"\n",
    "    liste_dossiers.append(dossier_selectionne)\n",
    "    print(f\"Dossier ajouté : {dossier_selectionne}\")\n",
    "\n",
    "# Fonction pour traiter les dossiers de la liste en continu\n",
    "def traiter_dossiers():\n",
    "    if liste_dossiers:\n",
    "        # Traiter le premier dossier de la liste\n",
    "        dossier = liste_dossiers.pop(0)\n",
    "        print(f\"Traitement du dossier : {dossier}\")\n",
    "        # Insérer ici le code pour traiter le dossier\n",
    "\n",
    "    # Répéter la fonction toutes les 1000 millisecondes (1 seconde)\n",
    "    fenetre.after(1000, traiter_dossiers)\n",
    "\n",
    "# Création de la fenêtre principale Tkinter\n",
    "fenetre = tk.Tk()\n",
    "\n",
    "# Bouton pour ajouter un dossier à la liste\n",
    "bouton_ajouter = tk.Button(fenetre, text=\"Ajouter un dossier\", command=ajouter_dossier)\n",
    "bouton_ajouter.pack()\n",
    "\n",
    "# Lancement de la fonction pour traiter les dossiers\n",
    "traiter_dossiers()\n",
    "\n",
    "# Démarrer la boucle principale Tkinter\n",
    "fenetre.mainloop()"
   ]
  },
  {
   "cell_type": "markdown",
   "metadata": {},
   "source": [
    "Dans cet exemple, lorsque vous cliquez sur le bouton \"Ajouter un dossier\", la fonction ajouter_dossier est appelée pour ajouter le chemin du dossier sélectionné à la liste liste_dossiers. Ensuite, la fonction traiter_dossiers est lancée en continu pour traiter les dossiers présents dans la liste. Vous pouvez cliquer plusieurs fois sur le bouton pour ajouter plusieurs dossiers à la liste, et la fonction de traitement les traitera un par un. N'oubliez pas d'ajouter le code de traitement spécifique pour chaque dossier à l'intérieur de la fonction traiter_dossiers."
   ]
  },
  {
   "cell_type": "code",
   "execution_count": null,
   "metadata": {},
   "outputs": [],
   "source": [
    "def decorateur(func):\n",
    "\n",
    "    def wrapper():\n",
    "\n",
    "        print(\"Start\")\n",
    "        func()\n",
    "        print(\"End\")\n",
    "\n",
    "    return wrapper\n",
    "    \n",
    "\n",
    "decorateur(f1)()"
   ]
  },
  {
   "cell_type": "code",
   "execution_count": null,
   "metadata": {},
   "outputs": [],
   "source": []
  },
  {
   "cell_type": "code",
   "execution_count": null,
   "metadata": {},
   "outputs": [],
   "source": []
  },
  {
   "cell_type": "code",
   "execution_count": null,
   "metadata": {},
   "outputs": [],
   "source": [
    "chemin_musique =\"a\" + \"\\\\\" + \"b\"\n",
    "print(chemin_musique)"
   ]
  },
  {
   "cell_type": "code",
   "execution_count": null,
   "metadata": {},
   "outputs": [],
   "source": [
    "from tkinter import Tk, Label, Entry, StringVar\n",
    "\n",
    "app = Tk()\n",
    "\n",
    "labelText=StringVar()\n",
    "labelText.set(\"Enter directory of log files\")\n",
    "labelDir=Label(app, textvariable=labelText, height=4)\n",
    "labelDir.grid(row=1,column=1)\n",
    "\n",
    "directory=StringVar(None)\n",
    "dirname=Entry(app,textvariable=directory,width=50)\n",
    "dirname.grid(row=1,column=2)\n",
    "\n",
    "app.mainloop()"
   ]
  },
  {
   "cell_type": "code",
   "execution_count": null,
   "metadata": {},
   "outputs": [],
   "source": [
    "for i in 19:\n",
    "    print(i)"
   ]
  },
  {
   "cell_type": "code",
   "execution_count": null,
   "metadata": {},
   "outputs": [],
   "source": []
  },
  {
   "cell_type": "code",
   "execution_count": null,
   "metadata": {},
   "outputs": [],
   "source": []
  },
  {
   "cell_type": "code",
   "execution_count": null,
   "metadata": {},
   "outputs": [],
   "source": [
    "def wait_for_element_by_id(driver, element_id, timeout=10):\n",
    "    return WebDriverWait(driver, timeout).until(\n",
    "        EC.presence_of_element_located((By.ID, element_id))\n",
    "    )"
   ]
  },
  {
   "cell_type": "code",
   "execution_count": null,
   "metadata": {},
   "outputs": [],
   "source": []
  },
  {
   "cell_type": "code",
   "execution_count": null,
   "metadata": {},
   "outputs": [],
   "source": []
  }
 ],
 "metadata": {
  "kernelspec": {
   "display_name": "Python 3",
   "language": "python",
   "name": "python3"
  },
  "language_info": {
   "codemirror_mode": {
    "name": "ipython",
    "version": 3
   },
   "file_extension": ".py",
   "mimetype": "text/x-python",
   "name": "python",
   "nbconvert_exporter": "python",
   "pygments_lexer": "ipython3",
   "version": "3.10.7"
  },
  "orig_nbformat": 4
 },
 "nbformat": 4,
 "nbformat_minor": 2
}
